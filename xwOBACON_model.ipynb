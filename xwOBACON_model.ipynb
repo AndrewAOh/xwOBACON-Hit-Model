{
  "nbformat": 4,
  "nbformat_minor": 0,
  "metadata": {
    "colab": {
      "provenance": [],
      "gpuType": "L4"
    },
    "kernelspec": {
      "name": "python3",
      "display_name": "Python 3"
    },
    "language_info": {
      "name": "python"
    },
    "accelerator": "GPU"
  },
  "cells": [
    {
      "cell_type": "code",
      "execution_count": null,
      "metadata": {
        "colab": {
          "base_uri": "https://localhost:8080/"
        },
        "id": "BL9NtaFrxFBc",
        "outputId": "9555ff01-7657-4c14-c651-5a77c40eb64a"
      },
      "outputs": [
        {
          "output_type": "stream",
          "name": "stdout",
          "text": [
            "Mounted at /content/drive\n"
          ]
        }
      ],
      "source": [
        "from google.colab import drive\n",
        "drive.mount('/content/drive')"
      ]
    },
    {
      "cell_type": "markdown",
      "source": [
        "# Read in the Data"
      ],
      "metadata": {
        "id": "lCzuzI33ySwn"
      }
    },
    {
      "cell_type": "code",
      "source": [
        "import pandas as pd\n",
        "import glob\n",
        "import os\n",
        "import numpy as np\n",
        "\n",
        "# Full NCAA Dataset - 48 sec\n",
        "df = pd.read_csv(\"/content/drive/MyDrive/USC Baseball/Datasets/Updated22_23_NCAA_Dataset.csv\")"
      ],
      "metadata": {
        "colab": {
          "base_uri": "https://localhost:8080/"
        },
        "id": "6J456Uw3xg-U",
        "outputId": "4a0902ad-17ec-4cd6-a60e-b183b8a179a6"
      },
      "execution_count": null,
      "outputs": [
        {
          "output_type": "stream",
          "name": "stderr",
          "text": [
            "<ipython-input-2-7e143f33715e>:7: DtypeWarning: Columns (27,92,93,94) have mixed types. Specify dtype option on import or set low_memory=False.\n",
            "  df = pd.read_csv(\"/content/drive/MyDrive/USC Baseball/Datasets/Updated22_23_NCAA_Dataset.csv\")\n"
          ]
        }
      ]
    },
    {
      "cell_type": "markdown",
      "source": [
        "# Clean up the data + Create Buckets\n"
      ],
      "metadata": {
        "id": "oJdoL6CUyVTY"
      }
    },
    {
      "cell_type": "code",
      "execution_count": null,
      "metadata": {
        "id": "4L08ZxvEU_17"
      },
      "outputs": [],
      "source": [
        "#This will ignore all DeprecationWarning warnings in your code.\n",
        "import warnings\n",
        "warnings.filterwarnings(\"ignore\", category=DeprecationWarning)"
      ]
    },
    {
      "cell_type": "code",
      "execution_count": null,
      "metadata": {
        "id": "pkf9j2mhXYfl"
      },
      "outputs": [],
      "source": [
        "cleandf = df[df['TaggedPitchType'].str.contains(\"Undefined|Other|,\") == False]\n",
        "cleanD1 = cleandf[cleandf['Level'] == \"D1\"]"
      ]
    },
    {
      "cell_type": "code",
      "source": [
        "cleanConf = cleanD1[cleanD1['League'].isin([\"SEC\", \"BIG12\", \"BIG10\", \"ACC\", \"PAC12\", \"CUSA\", \"SBELT\", \"AMER\"])]"
      ],
      "metadata": {
        "id": "oVJWhexDE2xa"
      },
      "execution_count": null,
      "outputs": []
    },
    {
      "cell_type": "code",
      "source": [
        "# Reclassifies pitch type buckets\n",
        "conditions = [\n",
        "    (cleanConf['TaggedPitchType'].str.contains('Fastball|FourSeamFastBall|TwoSeamFastBall|OneSeamFastBall|Sinker')),  # Fastballs\n",
        "    (cleanConf['TaggedPitchType'].str.contains('Slider|Cutter|Curveball')),  # Breaking Balls\n",
        "    (cleanConf['TaggedPitchType'].str.contains('ChangeUp|Splitter|Knuckleball')),  # Offspeed\n",
        "]\n",
        "\n",
        "# creates a list of values\n",
        "values = [1, 2, 3]\n",
        "# creates new column determining hit or not and assign values to it based on the conditions\n",
        "cleanConf['PitchBucket'] = np.select(conditions, values, default = 4)"
      ],
      "metadata": {
        "colab": {
          "base_uri": "https://localhost:8080/"
        },
        "id": "hOTG6_HQyQpv",
        "outputId": "a5f4b17f-9ca9-44aa-af16-f60bf4c25acc"
      },
      "execution_count": null,
      "outputs": [
        {
          "output_type": "stream",
          "name": "stderr",
          "text": [
            "<ipython-input-6-7b1c0ce79f90>:11: SettingWithCopyWarning: \n",
            "A value is trying to be set on a copy of a slice from a DataFrame.\n",
            "Try using .loc[row_indexer,col_indexer] = value instead\n",
            "\n",
            "See the caveats in the documentation: https://pandas.pydata.org/pandas-docs/stable/user_guide/indexing.html#returning-a-view-versus-a-copy\n",
            "  cleanConf['PitchBucket'] = np.select(conditions, values, default = 4)\n"
          ]
        }
      ]
    },
    {
      "cell_type": "code",
      "source": [
        "cleanConf['PitchBucket'].value_counts()"
      ],
      "metadata": {
        "colab": {
          "base_uri": "https://localhost:8080/",
          "height": 210
        },
        "id": "O4kitE6G13_y",
        "outputId": "b0d38692-c7c2-422d-aa6a-3d256fc0578a"
      },
      "execution_count": null,
      "outputs": [
        {
          "output_type": "execute_result",
          "data": {
            "text/plain": [
              "PitchBucket\n",
              "1    1001439\n",
              "2     576786\n",
              "3     213075\n",
              "Name: count, dtype: int64"
            ],
            "text/html": [
              "<div>\n",
              "<style scoped>\n",
              "    .dataframe tbody tr th:only-of-type {\n",
              "        vertical-align: middle;\n",
              "    }\n",
              "\n",
              "    .dataframe tbody tr th {\n",
              "        vertical-align: top;\n",
              "    }\n",
              "\n",
              "    .dataframe thead th {\n",
              "        text-align: right;\n",
              "    }\n",
              "</style>\n",
              "<table border=\"1\" class=\"dataframe\">\n",
              "  <thead>\n",
              "    <tr style=\"text-align: right;\">\n",
              "      <th></th>\n",
              "      <th>count</th>\n",
              "    </tr>\n",
              "    <tr>\n",
              "      <th>PitchBucket</th>\n",
              "      <th></th>\n",
              "    </tr>\n",
              "  </thead>\n",
              "  <tbody>\n",
              "    <tr>\n",
              "      <th>1</th>\n",
              "      <td>1001439</td>\n",
              "    </tr>\n",
              "    <tr>\n",
              "      <th>2</th>\n",
              "      <td>576786</td>\n",
              "    </tr>\n",
              "    <tr>\n",
              "      <th>3</th>\n",
              "      <td>213075</td>\n",
              "    </tr>\n",
              "  </tbody>\n",
              "</table>\n",
              "</div><br><label><b>dtype:</b> int64</label>"
            ]
          },
          "metadata": {},
          "execution_count": 7
        }
      ]
    },
    {
      "cell_type": "code",
      "source": [
        "# Recodes Pitch Handedness to binary variable\n",
        "\n",
        "conditions = [\n",
        "    (cleanConf['PitcherThrows'] == 'Right'),  # RHP\n",
        "    (cleanConf['PitcherThrows'] == 'Left')  # LHP\n",
        "]\n",
        "\n",
        "# creates a list of values to assign for pitch handedness where RHP = 1 & LHP = 0\n",
        "values = [0, 1]\n",
        "# creates new column determining pitch hand\n",
        "cleanConf['PitcherHand'] = np.select(conditions, values)"
      ],
      "metadata": {
        "colab": {
          "base_uri": "https://localhost:8080/"
        },
        "id": "mJoGK06Sze-t",
        "outputId": "314cd896-3c9f-4ac7-9555-c2406cb992f5"
      },
      "execution_count": null,
      "outputs": [
        {
          "output_type": "stream",
          "name": "stderr",
          "text": [
            "<ipython-input-8-783810b04da9>:11: SettingWithCopyWarning: \n",
            "A value is trying to be set on a copy of a slice from a DataFrame.\n",
            "Try using .loc[row_indexer,col_indexer] = value instead\n",
            "\n",
            "See the caveats in the documentation: https://pandas.pydata.org/pandas-docs/stable/user_guide/indexing.html#returning-a-view-versus-a-copy\n",
            "  cleanConf['PitcherHand'] = np.select(conditions, values)\n"
          ]
        }
      ]
    },
    {
      "cell_type": "code",
      "source": [
        "cleanConf['PitcherHand'].value_counts()"
      ],
      "metadata": {
        "colab": {
          "base_uri": "https://localhost:8080/",
          "height": 178
        },
        "id": "CHYhabSM2ybE",
        "outputId": "b1c18ace-439e-44c0-b8ab-ca208351eac6"
      },
      "execution_count": null,
      "outputs": [
        {
          "output_type": "execute_result",
          "data": {
            "text/plain": [
              "PitcherHand\n",
              "0    1290893\n",
              "1     500407\n",
              "Name: count, dtype: int64"
            ],
            "text/html": [
              "<div>\n",
              "<style scoped>\n",
              "    .dataframe tbody tr th:only-of-type {\n",
              "        vertical-align: middle;\n",
              "    }\n",
              "\n",
              "    .dataframe tbody tr th {\n",
              "        vertical-align: top;\n",
              "    }\n",
              "\n",
              "    .dataframe thead th {\n",
              "        text-align: right;\n",
              "    }\n",
              "</style>\n",
              "<table border=\"1\" class=\"dataframe\">\n",
              "  <thead>\n",
              "    <tr style=\"text-align: right;\">\n",
              "      <th></th>\n",
              "      <th>count</th>\n",
              "    </tr>\n",
              "    <tr>\n",
              "      <th>PitcherHand</th>\n",
              "      <th></th>\n",
              "    </tr>\n",
              "  </thead>\n",
              "  <tbody>\n",
              "    <tr>\n",
              "      <th>0</th>\n",
              "      <td>1290893</td>\n",
              "    </tr>\n",
              "    <tr>\n",
              "      <th>1</th>\n",
              "      <td>500407</td>\n",
              "    </tr>\n",
              "  </tbody>\n",
              "</table>\n",
              "</div><br><label><b>dtype:</b> int64</label>"
            ]
          },
          "metadata": {},
          "execution_count": 9
        }
      ]
    },
    {
      "cell_type": "code",
      "source": [
        "conditions = [\n",
        "    (cleanConf['PlayResult'] == 'Out'),  # Out\n",
        "    (cleanConf['PlayResult'] == 'Error'),  # Walk\n",
        "    (cleanConf['PlayResult'] == 'Single'),\n",
        "    (cleanConf['PlayResult'] == 'Double'),\n",
        "    (cleanConf['PlayResult'] == 'Triple'),\n",
        "    (cleanConf['PlayResult'] == 'HomeRun'),\n",
        "]\n",
        "\n",
        "# creates a list of values to assign for pitch handedness where RHP = 1 & LHP = 0\n",
        "values = [0, 0, 1, 2, 3, 4]\n",
        "# creates new column determining pitch hand\n",
        "cleanConf['hitResult'] = np.select(conditions, values, default = -1)"
      ],
      "metadata": {
        "colab": {
          "base_uri": "https://localhost:8080/"
        },
        "id": "zExjAVVO6Lvj",
        "outputId": "478839ec-a954-4259-ba15-74ef0d958fc5"
      },
      "execution_count": null,
      "outputs": [
        {
          "output_type": "stream",
          "name": "stderr",
          "text": [
            "<ipython-input-10-2574b5b2495a>:13: SettingWithCopyWarning: \n",
            "A value is trying to be set on a copy of a slice from a DataFrame.\n",
            "Try using .loc[row_indexer,col_indexer] = value instead\n",
            "\n",
            "See the caveats in the documentation: https://pandas.pydata.org/pandas-docs/stable/user_guide/indexing.html#returning-a-view-versus-a-copy\n",
            "  cleanConf['hitResult'] = np.select(conditions, values, default = -1)\n"
          ]
        }
      ]
    },
    {
      "cell_type": "code",
      "source": [
        "cleanConf['hitResult'].value_counts()"
      ],
      "metadata": {
        "colab": {
          "base_uri": "https://localhost:8080/",
          "height": 304
        },
        "id": "nbx8ftaD84QK",
        "outputId": "b07a91d8-e473-447a-8845-b3bdec8cd0d4"
      },
      "execution_count": null,
      "outputs": [
        {
          "output_type": "execute_result",
          "data": {
            "text/plain": [
              "hitResult\n",
              "-1    1506947\n",
              " 0     177538\n",
              " 1      69295\n",
              " 2      20881\n",
              " 4      14503\n",
              " 3       2136\n",
              "Name: count, dtype: int64"
            ],
            "text/html": [
              "<div>\n",
              "<style scoped>\n",
              "    .dataframe tbody tr th:only-of-type {\n",
              "        vertical-align: middle;\n",
              "    }\n",
              "\n",
              "    .dataframe tbody tr th {\n",
              "        vertical-align: top;\n",
              "    }\n",
              "\n",
              "    .dataframe thead th {\n",
              "        text-align: right;\n",
              "    }\n",
              "</style>\n",
              "<table border=\"1\" class=\"dataframe\">\n",
              "  <thead>\n",
              "    <tr style=\"text-align: right;\">\n",
              "      <th></th>\n",
              "      <th>count</th>\n",
              "    </tr>\n",
              "    <tr>\n",
              "      <th>hitResult</th>\n",
              "      <th></th>\n",
              "    </tr>\n",
              "  </thead>\n",
              "  <tbody>\n",
              "    <tr>\n",
              "      <th>-1</th>\n",
              "      <td>1506947</td>\n",
              "    </tr>\n",
              "    <tr>\n",
              "      <th>0</th>\n",
              "      <td>177538</td>\n",
              "    </tr>\n",
              "    <tr>\n",
              "      <th>1</th>\n",
              "      <td>69295</td>\n",
              "    </tr>\n",
              "    <tr>\n",
              "      <th>2</th>\n",
              "      <td>20881</td>\n",
              "    </tr>\n",
              "    <tr>\n",
              "      <th>4</th>\n",
              "      <td>14503</td>\n",
              "    </tr>\n",
              "    <tr>\n",
              "      <th>3</th>\n",
              "      <td>2136</td>\n",
              "    </tr>\n",
              "  </tbody>\n",
              "</table>\n",
              "</div><br><label><b>dtype:</b> int64</label>"
            ]
          },
          "metadata": {},
          "execution_count": 11
        }
      ]
    },
    {
      "cell_type": "code",
      "source": [
        "filteredDF = cleanConf[cleanConf['hitResult'] != -1].reset_index()"
      ],
      "metadata": {
        "id": "z0pfDZwolARR"
      },
      "execution_count": null,
      "outputs": []
    },
    {
      "cell_type": "code",
      "source": [
        "print(\"Dataset size: \" + str(len(filteredDF)))"
      ],
      "metadata": {
        "colab": {
          "base_uri": "https://localhost:8080/"
        },
        "id": "Wl42RWYYF4dP",
        "outputId": "a2ab5933-170d-49ec-940c-74c2cea20703"
      },
      "execution_count": null,
      "outputs": [
        {
          "output_type": "stream",
          "name": "stdout",
          "text": [
            "Dataset size: 284353\n"
          ]
        }
      ]
    },
    {
      "cell_type": "markdown",
      "source": [
        "# Making the model"
      ],
      "metadata": {
        "id": "Dad4bxauBinF"
      }
    },
    {
      "cell_type": "code",
      "source": [
        "finalCleanDF = filteredDF.dropna(subset=['hitResult', 'PitcherHand', 'RelSpeed', 'SpinRate', 'InducedVertBreak', 'HorzBreak', 'SpinAxis', 'RelHeight', 'Extension', 'ExitSpeed', 'Angle'])\n",
        "finalDF = finalCleanDF[['hitResult', 'PitcherHand', 'RelSpeed', 'SpinRate', 'InducedVertBreak', 'HorzBreak', 'SpinAxis', 'RelHeight', 'Extension', 'ExitSpeed', 'Angle']]"
      ],
      "metadata": {
        "id": "q3qkd_LFBkdQ"
      },
      "execution_count": null,
      "outputs": []
    },
    {
      "cell_type": "markdown",
      "source": [
        "## Making Model"
      ],
      "metadata": {
        "id": "8CxfMOMSEPzu"
      }
    },
    {
      "cell_type": "code",
      "source": [
        "out_class = finalDF[finalDF['hitResult'] == 0]\n",
        "single_class = finalDF[finalDF['hitResult'] == 1]\n",
        "double_class = finalDF[finalDF['hitResult'] == 2]\n",
        "triple_class = finalDF[finalDF['hitResult'] == 3]\n",
        "hr_class = finalDF[finalDF['hitResult'] == 4]"
      ],
      "metadata": {
        "id": "bnjUUoPLDHVr"
      },
      "execution_count": null,
      "outputs": []
    },
    {
      "cell_type": "code",
      "source": [
        "print(len(out_class)/(len(out_class)+len(single_class)+len(double_class)+len(triple_class)+len(hr_class)))\n",
        "print(len(single_class)/(len(out_class)+len(single_class)+len(double_class)+len(triple_class)+len(hr_class)))\n",
        "print(len(double_class)/(len(out_class)+len(single_class)+len(double_class)+len(triple_class)+len(hr_class)))\n",
        "print(len(triple_class)/(len(out_class)+len(single_class)+len(double_class)+len(triple_class)+len(hr_class)))\n",
        "print(len(hr_class)/(len(out_class)+len(single_class)+len(double_class)+len(triple_class)+len(hr_class)))"
      ],
      "metadata": {
        "colab": {
          "base_uri": "https://localhost:8080/"
        },
        "id": "oLzJApuaokZL",
        "outputId": "ef04056d-6d18-40c9-ad1e-00acce0fa832"
      },
      "execution_count": null,
      "outputs": [
        {
          "output_type": "stream",
          "name": "stdout",
          "text": [
            "0.6161788910119375\n",
            "0.24451465218789611\n",
            "0.07719026088272574\n",
            "0.007904046614578407\n",
            "0.054212149302862334\n"
          ]
        }
      ]
    },
    {
      "cell_type": "code",
      "execution_count": null,
      "metadata": {
        "id": "tsbcZU879aP4"
      },
      "outputs": [],
      "source": [
        "# resamples the class\n",
        "from sklearn.utils import resample\n",
        "out_class_downsampled = resample(out_class,\n",
        "                                      replace=False,  # sample without replacement\n",
        "                                      n_samples=int(len(out_class)/1.5),  # match minority class size\n",
        "                                      #n_samples = 390000,\n",
        "                                      random_state=42)  # reproducible results\n",
        "double_class_upsampled = resample(double_class,\n",
        "                                      replace=True,  # sample without replacement\n",
        "                                      n_samples=int(len(double_class)*1.3),  # match minority class size\n",
        "                                      #n_samples = 390000,\n",
        "                                      random_state=42)  # reproducible results\n",
        "triple_class_upsampled = resample(triple_class,\n",
        "                                      replace=True,  # sample without replacement\n",
        "                                      n_samples=int(len(triple_class)*1.5),  # match minority class size\n",
        "                                      #n_samples = 390000,\n",
        "                                      random_state=42)  # reproducible results\n",
        "hr_class_upsampled = resample(hr_class,\n",
        "                                      replace=True,  # sample without replacement\n",
        "                                      n_samples=int(len(hr_class)*1.3),  # match minority class size\n",
        "                                      #n_samples = 390000,\n",
        "                                      random_state=42)  # reproducible results\n",
        "\n",
        "# Combine minority class and downsampled majority class\n",
        "balanced_df = pd.concat([out_class_downsampled, single_class, double_class_upsampled, triple_class_upsampled, hr_class_upsampled])\n",
        "\n",
        "\n"
      ]
    },
    {
      "cell_type": "code",
      "execution_count": null,
      "metadata": {
        "id": "kmYzAkzh_ri6"
      },
      "outputs": [],
      "source": [
        "# Shuffle the data to avoid order effects\n",
        "# figure why this don't work\n",
        "balanced_df = balanced_df.sample(frac=1, random_state=42)\n"
      ]
    },
    {
      "cell_type": "code",
      "execution_count": null,
      "metadata": {
        "id": "WdO2bnTQi0Yx"
      },
      "outputs": [],
      "source": [
        "rel_data = balanced_df[['hitResult', 'PitcherHand', 'RelSpeed', 'SpinRate', 'InducedVertBreak', 'HorzBreak', 'SpinAxis', 'RelHeight', 'Extension','ExitSpeed', 'Angle' ]].to_numpy()\n",
        "\n",
        "\n",
        "classification = balanced_df['hitResult'].to_numpy()"
      ]
    },
    {
      "cell_type": "code",
      "source": [
        "balanced_df['hitResult'].value_counts()"
      ],
      "metadata": {
        "colab": {
          "base_uri": "https://localhost:8080/",
          "height": 272
        },
        "id": "_HaXq400qpEE",
        "outputId": "c4405118-7065-4381-e1b5-1e66cc9568e7"
      },
      "execution_count": null,
      "outputs": [
        {
          "output_type": "execute_result",
          "data": {
            "text/plain": [
              "hitResult\n",
              "0    108568\n",
              "1     64624\n",
              "2     26521\n",
              "4     18626\n",
              "3      3133\n",
              "Name: count, dtype: int64"
            ],
            "text/html": [
              "<div>\n",
              "<style scoped>\n",
              "    .dataframe tbody tr th:only-of-type {\n",
              "        vertical-align: middle;\n",
              "    }\n",
              "\n",
              "    .dataframe tbody tr th {\n",
              "        vertical-align: top;\n",
              "    }\n",
              "\n",
              "    .dataframe thead th {\n",
              "        text-align: right;\n",
              "    }\n",
              "</style>\n",
              "<table border=\"1\" class=\"dataframe\">\n",
              "  <thead>\n",
              "    <tr style=\"text-align: right;\">\n",
              "      <th></th>\n",
              "      <th>count</th>\n",
              "    </tr>\n",
              "    <tr>\n",
              "      <th>hitResult</th>\n",
              "      <th></th>\n",
              "    </tr>\n",
              "  </thead>\n",
              "  <tbody>\n",
              "    <tr>\n",
              "      <th>0</th>\n",
              "      <td>108568</td>\n",
              "    </tr>\n",
              "    <tr>\n",
              "      <th>1</th>\n",
              "      <td>64624</td>\n",
              "    </tr>\n",
              "    <tr>\n",
              "      <th>2</th>\n",
              "      <td>26521</td>\n",
              "    </tr>\n",
              "    <tr>\n",
              "      <th>4</th>\n",
              "      <td>18626</td>\n",
              "    </tr>\n",
              "    <tr>\n",
              "      <th>3</th>\n",
              "      <td>3133</td>\n",
              "    </tr>\n",
              "  </tbody>\n",
              "</table>\n",
              "</div><br><label><b>dtype:</b> int64</label>"
            ]
          },
          "metadata": {},
          "execution_count": 20
        }
      ]
    },
    {
      "cell_type": "code",
      "source": [
        "sampledTotal = len(balanced_df)\n",
        "print(\"total is: \" + str(sampledTotal))\n",
        "trainTotal = int(0.8*sampledTotal)"
      ],
      "metadata": {
        "colab": {
          "base_uri": "https://localhost:8080/"
        },
        "id": "bwN5Ek_UrL9F",
        "outputId": "46b26cac-c4c1-4c52-caef-d75f0cefd2a3"
      },
      "execution_count": null,
      "outputs": [
        {
          "output_type": "stream",
          "name": "stdout",
          "text": [
            "total is: 221472\n"
          ]
        }
      ]
    },
    {
      "cell_type": "code",
      "execution_count": null,
      "metadata": {
        "id": "ouxXdkj5IBEt"
      },
      "outputs": [],
      "source": [
        "# Split data into features and target\n",
        "X = balanced_df.drop(['hitResult'], axis=1)\n",
        "y = balanced_df['hitResult']\n",
        "\n",
        "# Split data into training and testing sets\n",
        "x_train = X[:trainTotal]\n",
        "x_test = X[trainTotal:]\n",
        "y_train = y[:trainTotal]\n",
        "y_test = y[trainTotal:]\n",
        "\n",
        "# from sklearn import preprocessing\n",
        "\n",
        "# # Standardize the features\n",
        "# scaler = preprocessing.StandardScaler().fit(x_train)\n",
        "# x_train_scaled = scaler.transform(x_train)\n",
        "# x_test_scaled = scaler.transform(x_test)"
      ]
    },
    {
      "cell_type": "markdown",
      "source": [
        "### Making XGBoost Model"
      ],
      "metadata": {
        "id": "nh6xQVQcsjxI"
      }
    },
    {
      "cell_type": "code",
      "source": [
        "import xgboost as xgb\n",
        "from sklearn.metrics import accuracy_score\n",
        "\n",
        "# Convert the dataset into DMatrix for XGBoost\n",
        "train_data = xgb.DMatrix(x_train, label=y_train)\n",
        "test_data = xgb.DMatrix(x_test, label=y_test)\n",
        "\n",
        "# Define XGBoost parameters for multi-class classification\n",
        "params = {\n",
        "    'objective': 'multi:softprob',  # Softmax for multi-class classification\n",
        "    'num_class': len(y.unique()),  # Number of classes in the target variable\n",
        "    'max_depth': 4,                # Maximum depth of a tree\n",
        "    'eta': 0.01,                    # Learning rate\n",
        "    'n_estimators': 115,\n",
        "    'subsample': 0.8,              # Subsample ratio of the training data\n",
        "    'colsample_bytree': 0.8,       # Subsample ratio of columns\n",
        "    'eval_metric': 'mlogloss'      # Evaluation metric\n",
        "}"
      ],
      "metadata": {
        "id": "VDWv1f8rsUuZ"
      },
      "execution_count": null,
      "outputs": []
    },
    {
      "cell_type": "code",
      "source": [
        "# Train the model\n",
        "model = xgb.train(params, train_data, num_boost_round=100)"
      ],
      "metadata": {
        "colab": {
          "base_uri": "https://localhost:8080/"
        },
        "id": "lUrXSRHsspyi",
        "outputId": "08d3d262-b16b-4113-b8f6-68b08c347066"
      },
      "execution_count": null,
      "outputs": [
        {
          "output_type": "stream",
          "name": "stderr",
          "text": [
            "/usr/local/lib/python3.10/dist-packages/xgboost/core.py:158: UserWarning: [17:15:09] WARNING: /workspace/src/learner.cc:740: \n",
            "Parameters: { \"n_estimators\" } are not used.\n",
            "\n",
            "  warnings.warn(smsg, UserWarning)\n"
          ]
        }
      ]
    },
    {
      "cell_type": "code",
      "source": [
        "# Make predictions on the test set\n",
        "y_pred_probs = model.predict(test_data)"
      ],
      "metadata": {
        "id": "sFsYrxxcsssu"
      },
      "execution_count": null,
      "outputs": []
    },
    {
      "cell_type": "code",
      "source": [
        "if params['objective'] == 'multi:softprob':\n",
        "    y_pred = np.argmax(y_pred_probs, axis=1)  # Get the index of the highest probability for each instance\n",
        "else:\n",
        "    y_pred = y_pred_probs  # For 'multi:softmax', the prediction is already in label format\n"
      ],
      "metadata": {
        "id": "SmFUSVwKuKW9"
      },
      "execution_count": null,
      "outputs": []
    },
    {
      "cell_type": "code",
      "source": [
        "# Evaluate accuracy\n",
        "accuracy = accuracy_score(y_test, y_pred)\n",
        "print(f\"Accuracy: {accuracy * 100:.2f}%\")"
      ],
      "metadata": {
        "colab": {
          "base_uri": "https://localhost:8080/"
        },
        "id": "qQbF3ukPsutp",
        "outputId": "fce9d1d0-01db-4f05-b435-2affc3e889c3"
      },
      "execution_count": null,
      "outputs": [
        {
          "output_type": "stream",
          "name": "stdout",
          "text": [
            "Accuracy: 49.19%\n"
          ]
        }
      ]
    },
    {
      "cell_type": "code",
      "source": [
        "from sklearn.metrics import confusion_matrix\n",
        "\n",
        "# Compute confusion matrix\n",
        "conf_matrix = confusion_matrix(y_test, y_pred)\n",
        "\n",
        "# Calculate accuracy for each class\n",
        "class_accuracies = conf_matrix.diagonal() / conf_matrix.sum(axis=1)\n",
        "\n",
        "# Display accuracy for each class\n",
        "for i, accuracy in enumerate(class_accuracies):\n",
        "    print(f\"Accuracy for class {i}: {accuracy * 100:.2f}%\")"
      ],
      "metadata": {
        "colab": {
          "base_uri": "https://localhost:8080/"
        },
        "id": "XCUF0EX8tutM",
        "outputId": "192ce8f1-92a6-4f21-c4ed-6ebe570b775c"
      },
      "execution_count": null,
      "outputs": [
        {
          "output_type": "stream",
          "name": "stdout",
          "text": [
            "Accuracy for class 0: 100.00%\n",
            "Accuracy for class 1: 0.00%\n",
            "Accuracy for class 2: 0.00%\n",
            "Accuracy for class 3: 0.00%\n",
            "Accuracy for class 4: 0.00%\n"
          ]
        }
      ]
    },
    {
      "cell_type": "markdown",
      "source": [
        "### Making Hit Type Classification Model"
      ],
      "metadata": {
        "id": "6JFg-wRvRDGi"
      }
    },
    {
      "cell_type": "code",
      "execution_count": null,
      "metadata": {
        "id": "6ouNwt29qfL2"
      },
      "outputs": [],
      "source": [
        "from sklearn import metrics\n",
        "import seaborn as sns\n",
        "import matplotlib.pyplot as plt\n",
        "from matplotlib.colors import ListedColormap\n",
        "from sklearn.model_selection import train_test_split\n",
        "from sklearn.preprocessing import StandardScaler\n",
        "from sklearn.pipeline import make_pipeline\n",
        "from sklearn.datasets import make_moons, make_circles, make_classification\n",
        "from sklearn.tree import DecisionTreeClassifier\n",
        "from sklearn.ensemble import RandomForestClassifier, AdaBoostClassifier\n",
        "from numpy import loadtxt\n",
        "from xgboost import XGBClassifier\n",
        "# !pip install -U xgboost\n",
        "\n",
        "names = [\n",
        "    \"Decision Tree\",\n",
        "    \"Random Forest\",\n",
        "    \"XGBoost\"\n",
        "]\n",
        "\n",
        "classifiers = [\n",
        "    # DecisionTreeClassifier(max_depth=50),\n",
        "    #DecisionTreeClassifier(max_depth=5),\n",
        "    # RandomForestClassifier(max_depth=None, n_estimators=145)\n",
        "    XGBClassifier(device='gpu', eta=0.01, max_depth=100, n_estimators=150, use_label_encoder=False, eval_metric='logloss')\n",
        "]"
      ]
    },
    {
      "cell_type": "code",
      "execution_count": null,
      "metadata": {
        "id": "qxLW79_FwZhX",
        "colab": {
          "base_uri": "https://localhost:8080/"
        },
        "outputId": "224c8037-6ae4-4062-fa65-1d30d4cb279d"
      },
      "outputs": [
        {
          "output_type": "stream",
          "name": "stderr",
          "text": [
            "/usr/local/lib/python3.10/dist-packages/xgboost/core.py:158: UserWarning: [18:04:45] WARNING: /workspace/src/learner.cc:740: \n",
            "Parameters: { \"use_label_encoder\" } are not used.\n",
            "\n",
            "  warnings.warn(smsg, UserWarning)\n"
          ]
        }
      ],
      "source": [
        "accuracies = []\n",
        "for opt in classifiers:\n",
        "  clf = make_pipeline(StandardScaler(), opt)\n",
        "  clf.fit(x_train, y_train)\n",
        "\n",
        "  y_pred = clf.predict((x_test))\n",
        "  accuracies.append(metrics.accuracy_score(y_test, y_pred))"
      ]
    },
    {
      "cell_type": "code",
      "execution_count": null,
      "metadata": {
        "colab": {
          "base_uri": "https://localhost:8080/"
        },
        "id": "oTJaGMsVpKWB",
        "outputId": "9a71e253-b404-4ee5-d7e0-b16100e82eff"
      },
      "outputs": [
        {
          "output_type": "stream",
          "name": "stdout",
          "text": [
            "              precision    recall  f1-score   support\n",
            "\n",
            "           0       0.77      0.79      0.78     21786\n",
            "           1       0.67      0.67      0.67     12922\n",
            "           2       0.80      0.70      0.74      5230\n",
            "           3       0.95      0.58      0.72       629\n",
            "           4       0.81      0.88      0.85      3728\n",
            "\n",
            "    accuracy                           0.75     44295\n",
            "   macro avg       0.80      0.72      0.75     44295\n",
            "weighted avg       0.75      0.75      0.75     44295\n",
            "\n"
          ]
        }
      ],
      "source": [
        "from sklearn.metrics import classification_report\n",
        "# target_names = ['not Whiff, yes Whiff']\n",
        "print(classification_report(y_test, y_pred))"
      ]
    },
    {
      "cell_type": "code",
      "source": [
        "import matplotlib.pyplot as plt\n",
        "import seaborn as sns\n",
        "from sklearn.metrics import confusion_matrix\n",
        "\n",
        "# Generate confusion matrix\n",
        "cm = confusion_matrix(y_test, y_pred)\n",
        "\n",
        "# Plot confusion matrix using seaborn heatmap\n",
        "plt.figure(figsize=(8,6))\n",
        "sns.heatmap(cm, annot=True, fmt=\"d\", cmap=\"Blues\", xticklabels=np.unique(y_test), yticklabels=np.unique(y_test))\n",
        "plt.xlabel('Predicted Label')\n",
        "plt.ylabel('True Label')\n",
        "plt.title('Confusion Matrix')\n",
        "plt.show()\n"
      ],
      "metadata": {
        "colab": {
          "base_uri": "https://localhost:8080/",
          "height": 564
        },
        "id": "ooavU0puzKvI",
        "outputId": "5bd20e05-d592-4e04-cc52-7a84e5f699f7"
      },
      "execution_count": null,
      "outputs": [
        {
          "output_type": "display_data",
          "data": {
            "text/plain": [
              "<Figure size 800x600 with 2 Axes>"
            ],
            "image/png": "[encoded data removed]"
          },
          "metadata": {}
        }
      ]
    },
    {
      "cell_type": "code",
      "source": [
        "import matplotlib.pyplot as plt\n",
        "import seaborn as sns\n",
        "from sklearn.metrics import confusion_matrix\n",
        "\n",
        "# Generate confusion matrix\n",
        "cm = confusion_matrix(y_test, y_pred)\n",
        "\n",
        "# Plot confusion matrix using seaborn heatmap\n",
        "plt.figure(figsize=(8,6))\n",
        "sns.heatmap(cm, annot=True, fmt=\"d\", cmap=\"Blues\", xticklabels=np.unique(y_test), yticklabels=np.unique(y_test))\n",
        "plt.xlabel('Predicted Label')\n",
        "plt.ylabel('True Label')\n",
        "plt.title('Confusion Matrix')\n",
        "plt.show()"
      ],
      "metadata": {
        "id": "2HgqY33oIIql",
        "outputId": "e269541e-e89a-4785-b03d-de44339ed1fa",
        "colab": {
          "base_uri": "https://localhost:8080/",
          "height": 564
        }
      },
      "execution_count": null,
      "outputs": [
        {
          "output_type": "display_data",
          "data": {
            "text/plain": [
              "<Figure size 800x600 with 2 Axes>"
            ],
            "image/png": "[encoded data removed]"
          },
          "metadata": {}
        }
      ]
    },
    {
      "cell_type": "code",
      "execution_count": null,
      "metadata": {
        "colab": {
          "base_uri": "https://localhost:8080/"
        },
        "id": "FESte-bGrU0J",
        "outputId": "2a05fad3-198d-4f94-9dd8-4eb587798c3e"
      },
      "outputs": [
        {
          "output_type": "stream",
          "name": "stdout",
          "text": [
            "[0.7697046316515344]\n"
          ]
        }
      ],
      "source": [
        "print(accuracies)"
      ]
    },
    {
      "cell_type": "code",
      "source": [
        "print(accuracies)"
      ],
      "metadata": {
        "colab": {
          "base_uri": "https://localhost:8080/"
        },
        "id": "gVWR851Z0oIb",
        "outputId": "2dd08991-fd43-46ce-e1b7-789b5501aed9"
      },
      "execution_count": null,
      "outputs": [
        {
          "output_type": "stream",
          "name": "stdout",
          "text": [
            "[0.7479173721639011]\n"
          ]
        }
      ]
    },
    {
      "cell_type": "markdown",
      "source": [
        "### Export Hit Type Classification Model"
      ],
      "metadata": {
        "id": "EGXHxBHURG63"
      }
    },
    {
      "cell_type": "code",
      "source": [
        "import joblib\n",
        "from joblib import dump\n",
        "\n",
        "import os\n",
        "os.chdir('/content/drive/Shareddrives/USC Baseball/ML Stuff/Pitcher xwOBACON/Model')\n",
        "\n",
        "# export the trained model to disk\n",
        "joblib.dump(clf, 'HitTypeClassificationModel.joblib')"
      ],
      "metadata": {
        "id": "rO3sCWsdRK75",
        "colab": {
          "base_uri": "https://localhost:8080/"
        },
        "outputId": "a396db45-b887-487a-d06f-faeb7d422fe5"
      },
      "execution_count": null,
      "outputs": [
        {
          "output_type": "execute_result",
          "data": {
            "text/plain": [
              "['HitTypeClassificationModel.joblib']"
            ]
          },
          "metadata": {},
          "execution_count": 65
        }
      ]
    },
    {
      "cell_type": "code",
      "source": [],
      "metadata": {
        "id": "vs9ucgAhfSdg"
      },
      "execution_count": null,
      "outputs": []
    }
  ]
}